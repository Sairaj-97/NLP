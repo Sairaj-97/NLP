{
  "cells": [
    {
      "cell_type": "markdown",
      "metadata": {
        "id": "view-in-github",
        "colab_type": "text"
      },
      "source": [
        "<a href=\"https://colab.research.google.com/github/Sairaj-97/NLP/blob/main/spacy_word_vectors.ipynb\" target=\"_parent\"><img src=\"https://colab.research.google.com/assets/colab-badge.svg\" alt=\"Open In Colab\"/></a>"
      ]
    },
    {
      "cell_type": "code",
      "source": [
        "!python -m spacy download en_core_web_lg"
      ],
      "metadata": {
        "colab": {
          "base_uri": "https://localhost:8080/"
        },
        "id": "0HXm3fPyJQVf",
        "outputId": "9e5ddc93-b457-480f-c546-49e8d12a2632"
      },
      "id": "0HXm3fPyJQVf",
      "execution_count": 1,
      "outputs": [
        {
          "output_type": "stream",
          "name": "stdout",
          "text": [
            "Collecting en-core-web-lg==3.8.0\n",
            "  Downloading https://github.com/explosion/spacy-models/releases/download/en_core_web_lg-3.8.0/en_core_web_lg-3.8.0-py3-none-any.whl (400.7 MB)\n",
            "\u001b[2K     \u001b[90m━━━━━━━━━━━━━━━━━━━━━━━━━━━━━━━━━━━━━━━\u001b[0m \u001b[32m400.7/400.7 MB\u001b[0m \u001b[31m3.7 MB/s\u001b[0m eta \u001b[36m0:00:00\u001b[0m\n",
            "\u001b[?25h\u001b[38;5;2m✔ Download and installation successful\u001b[0m\n",
            "You can now load the package via spacy.load('en_core_web_lg')\n",
            "\u001b[38;5;3m⚠ Restart to reload dependencies\u001b[0m\n",
            "If you are in a Jupyter or Colab notebook, you may need to restart Python in\n",
            "order to load all the package's dependencies. You can do this by selecting the\n",
            "'Restart kernel' or 'Restart runtime' option.\n"
          ]
        }
      ]
    },
    {
      "cell_type": "code",
      "execution_count": 2,
      "id": "e0a80da8",
      "metadata": {
        "id": "e0a80da8"
      },
      "outputs": [],
      "source": [
        "import spacy\n",
        "\n",
        "# word vectors occupy lot of space. hence \"en_core_web_sm\" model do not have them included.\n",
        "# In order to download\n",
        "# word vectors you need to install large or medium english model. We will install the large one!\n",
        "# make sure you have run \"python -m spacy download en_core_web_lg\" to install large english model\n",
        "nlp = spacy.load(\"en_core_web_lg\")"
      ]
    },
    {
      "cell_type": "code",
      "execution_count": 3,
      "id": "f7b0ef24",
      "metadata": {
        "colab": {
          "base_uri": "https://localhost:8080/"
        },
        "id": "f7b0ef24",
        "outputId": "239f607f-17da-4157-d939-ed4d57da3055"
      },
      "outputs": [
        {
          "output_type": "stream",
          "name": "stdout",
          "text": [
            "dog Vector: True OOV: False\n",
            "cat Vector: True OOV: False\n",
            "banana Vector: True OOV: False\n",
            "kem Vector: True OOV: False\n"
          ]
        }
      ],
      "source": [
        "doc = nlp(\"dog cat banana kem\")\n",
        "\n",
        "for token in doc:\n",
        "    print(token.text, \"Vector:\", token.has_vector, \"OOV:\", token.is_oov)\n",
        "  #oov means out of vocabulary"
      ]
    },
    {
      "cell_type": "code",
      "execution_count": 6,
      "id": "c1213a20",
      "metadata": {
        "colab": {
          "base_uri": "https://localhost:8080/"
        },
        "id": "c1213a20",
        "outputId": "dab296c8-2b19-485f-d387-52e5c469bd10"
      },
      "outputs": [
        {
          "output_type": "execute_result",
          "data": {
            "text/plain": [
              "(300,)"
            ]
          },
          "metadata": {},
          "execution_count": 6
        }
      ],
      "source": [
        "doc[0].vector.shape\n",
        "#each word vector is 300 dimensions(features)"
      ]
    },
    {
      "cell_type": "code",
      "execution_count": 5,
      "id": "e62cde6f",
      "metadata": {
        "colab": {
          "base_uri": "https://localhost:8080/"
        },
        "id": "e62cde6f",
        "outputId": "4103e24c-9ba9-42fa-d2dc-8fcfacb20020"
      },
      "outputs": [
        {
          "output_type": "execute_result",
          "data": {
            "text/plain": [
              "(300,)"
            ]
          },
          "metadata": {},
          "execution_count": 5
        }
      ],
      "source": [
        "base_token = nlp(\"bread\")\n",
        "base_token.vector.shape"
      ]
    },
    {
      "cell_type": "code",
      "execution_count": 7,
      "id": "443e1130",
      "metadata": {
        "colab": {
          "base_uri": "https://localhost:8080/"
        },
        "id": "443e1130",
        "outputId": "fbfc89de-c0cd-4207-eb1a-9f18fb3c5fd6"
      },
      "outputs": [
        {
          "output_type": "stream",
          "name": "stdout",
          "text": [
            "bread <-> bread: 1.0\n",
            "sandwich <-> bread: 0.6874560117721558\n",
            "burger <-> bread: 0.544037401676178\n",
            "car <-> bread: 0.16441147029399872\n",
            "tiger <-> bread: 0.14492356777191162\n",
            "human <-> bread: 0.21103660762310028\n",
            "wheat <-> bread: 0.6572456359863281\n"
          ]
        }
      ],
      "source": [
        "doc = nlp(\"bread sandwich burger car tiger human wheat\")\n",
        "\n",
        "for token in doc:\n",
        "    print(f\"{token.text} <-> {base_token.text}:\", token.similarity(base_token))"
      ]
    }
  ],
  "metadata": {
    "kernelspec": {
      "display_name": "Python 3",
      "language": "python",
      "name": "python3"
    },
    "language_info": {
      "codemirror_mode": {
        "name": "ipython",
        "version": 3
      },
      "file_extension": ".py",
      "mimetype": "text/x-python",
      "name": "python",
      "nbconvert_exporter": "python",
      "pygments_lexer": "ipython3",
      "version": "3.8.10"
    },
    "colab": {
      "provenance": [],
      "include_colab_link": true
    }
  },
  "nbformat": 4,
  "nbformat_minor": 5
}